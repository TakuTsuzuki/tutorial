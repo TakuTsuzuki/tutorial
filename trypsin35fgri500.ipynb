{
 "cells": [
  {
   "cell_type": "code",
   "execution_count": 1,
   "metadata": {},
   "outputs": [],
   "source": [
    "%matplotlib inline\n",
    "import numpy as np\n",
    "import matplotlib.pyplot as plt\n",
    "import seaborn as sns\n",
    "import pandas as pd\n",
    "import GPyOpt\n",
    "import GPy \n",
    "import pickle\n",
    "\n",
    "import RPE_normalize\n",
    "import importlib\n",
    "importlib.reload(RPE_normalize)\n",
    "\n",
    "from RPE_normalize import X_names, X_bounds, get_domain\n",
    "from RPE_normalize import get_batch_context, get_init_design, rescale"
   ]
  },
  {
   "cell_type": "code",
   "execution_count": 2,
   "metadata": {},
   "outputs": [
    {
     "data": {
      "text/html": [
       "<div>\n",
       "<style scoped>\n",
       "    .dataframe tbody tr th:only-of-type {\n",
       "        vertical-align: middle;\n",
       "    }\n",
       "\n",
       "    .dataframe tbody tr th {\n",
       "        vertical-align: top;\n",
       "    }\n",
       "\n",
       "    .dataframe thead th {\n",
       "        text-align: right;\n",
       "    }\n",
       "</style>\n",
       "<table border=\"1\" class=\"dataframe\">\n",
       "  <thead>\n",
       "    <tr style=\"text-align: right;\">\n",
       "      <th></th>\n",
       "      <th>Plate1</th>\n",
       "      <th>Plate2</th>\n",
       "      <th>Plate3</th>\n",
       "      <th>Plate4</th>\n",
       "      <th>Plate5</th>\n",
       "      <th>Plate6</th>\n",
       "      <th>Plate7</th>\n",
       "      <th>Plate8</th>\n",
       "    </tr>\n",
       "    <tr>\n",
       "      <th>name</th>\n",
       "      <th></th>\n",
       "      <th></th>\n",
       "      <th></th>\n",
       "      <th></th>\n",
       "      <th></th>\n",
       "      <th></th>\n",
       "      <th></th>\n",
       "      <th></th>\n",
       "    </tr>\n",
       "  </thead>\n",
       "  <tbody>\n",
       "    <tr>\n",
       "      <th>Well1</th>\n",
       "      <td>0.006800</td>\n",
       "      <td>0.002890</td>\n",
       "      <td>0.000243</td>\n",
       "      <td>0.218000</td>\n",
       "      <td>0.000144</td>\n",
       "      <td>0.000054</td>\n",
       "      <td>0.000074</td>\n",
       "      <td>0.162000</td>\n",
       "    </tr>\n",
       "    <tr>\n",
       "      <th>Well2</th>\n",
       "      <td>0.000293</td>\n",
       "      <td>0.000102</td>\n",
       "      <td>0.000120</td>\n",
       "      <td>0.498000</td>\n",
       "      <td>0.001540</td>\n",
       "      <td>0.000040</td>\n",
       "      <td>0.000000</td>\n",
       "      <td>0.476000</td>\n",
       "    </tr>\n",
       "    <tr>\n",
       "      <th>Well3</th>\n",
       "      <td>0.004180</td>\n",
       "      <td>0.856000</td>\n",
       "      <td>0.000324</td>\n",
       "      <td>0.000231</td>\n",
       "      <td>0.001080</td>\n",
       "      <td>0.865000</td>\n",
       "      <td>0.000037</td>\n",
       "      <td>0.000616</td>\n",
       "    </tr>\n",
       "    <tr>\n",
       "      <th>Well4</th>\n",
       "      <td>0.128000</td>\n",
       "      <td>0.000096</td>\n",
       "      <td>0.000113</td>\n",
       "      <td>0.203000</td>\n",
       "      <td>0.122000</td>\n",
       "      <td>0.000050</td>\n",
       "      <td>0.000023</td>\n",
       "      <td>0.210000</td>\n",
       "    </tr>\n",
       "    <tr>\n",
       "      <th>Well5</th>\n",
       "      <td>0.000448</td>\n",
       "      <td>0.470000</td>\n",
       "      <td>0.000567</td>\n",
       "      <td>0.000062</td>\n",
       "      <td>0.003700</td>\n",
       "      <td>0.709000</td>\n",
       "      <td>0.000022</td>\n",
       "      <td>0.000000</td>\n",
       "    </tr>\n",
       "    <tr>\n",
       "      <th>Well6</th>\n",
       "      <td>0.047600</td>\n",
       "      <td>0.000508</td>\n",
       "      <td>0.000041</td>\n",
       "      <td>0.055400</td>\n",
       "      <td>0.072000</td>\n",
       "      <td>0.000446</td>\n",
       "      <td>0.000008</td>\n",
       "      <td>0.025400</td>\n",
       "    </tr>\n",
       "  </tbody>\n",
       "</table>\n",
       "</div>"
      ],
      "text/plain": [
       "         Plate1    Plate2    Plate3    Plate4    Plate5    Plate6    Plate7  \\\n",
       "name                                                                          \n",
       "Well1  0.006800  0.002890  0.000243  0.218000  0.000144  0.000054  0.000074   \n",
       "Well2  0.000293  0.000102  0.000120  0.498000  0.001540  0.000040  0.000000   \n",
       "Well3  0.004180  0.856000  0.000324  0.000231  0.001080  0.865000  0.000037   \n",
       "Well4  0.128000  0.000096  0.000113  0.203000  0.122000  0.000050  0.000023   \n",
       "Well5  0.000448  0.470000  0.000567  0.000062  0.003700  0.709000  0.000022   \n",
       "Well6  0.047600  0.000508  0.000041  0.055400  0.072000  0.000446  0.000008   \n",
       "\n",
       "         Plate8  \n",
       "name             \n",
       "Well1  0.162000  \n",
       "Well2  0.476000  \n",
       "Well3  0.000616  \n",
       "Well4  0.210000  \n",
       "Well5  0.000000  \n",
       "Well6  0.025400  "
      ]
     },
     "execution_count": 2,
     "metadata": {},
     "output_type": "execute_result"
    }
   ],
   "source": [
    "normalize = True\n",
    "dfopen =  pd.read_csv(\"./r2results_opening.csv\", index_col='name')\n",
    "#dfopen =  pd.read_csv(\"./r2results_sum.csv\", index_col='name')\n",
    "results = dfopen.values\n",
    "Y_init = []\n",
    "for plate in range(results.shape[1]):\n",
    "    for well in range(results.shape[0]):\n",
    "        Y_init.append([results[well][plate]])\n",
    "Y_init = -1*np.array(Y_init)\n",
    "X_init = get_init_design(normalize=normalize)\n",
    "\n",
    "dfopen"
   ]
  },
  {
   "cell_type": "code",
   "execution_count": 3,
   "metadata": {
    "scrolled": true
   },
   "outputs": [],
   "source": [
    "savepath= \"./trypsin28_43_precon1_6mat52_init1\""
   ]
  },
  {
   "cell_type": "markdown",
   "metadata": {},
   "source": [
    "jorders = [0]\n",
    "for i in np.arange(0,10):\n",
    "    aaa = \n",
    "    jorders.append(float(aaa))\n",
    "\n",
    "print(jorders)"
   ]
  },
  {
   "cell_type": "code",
   "execution_count": 4,
   "metadata": {},
   "outputs": [],
   "source": [
    "jorders = [0,1e-2,5e-3,2e-3,1e-3,5e-4,1e-4,5e-5,1e-5]"
   ]
  },
  {
   "cell_type": "markdown",
   "metadata": {},
   "source": [
    "jorders = [0,2e-18,3e-18,4e-18,5e-18,6e-18,7e-18,8e-18,9e-18,]"
   ]
  },
  {
   "cell_type": "code",
   "execution_count": 5,
   "metadata": {},
   "outputs": [],
   "source": [
    "def calc_EIstep(X_init, Y_init, jitter,batch_context=True,normalize = normalize, savepath = savepath):\n",
    "    space = GPyOpt.core.task.space.Design_space(get_domain(normalize=normalize), None)\n",
    "    #model_gp = GPyOpt.models.GPModel(\n",
    "    #    kernel=GPy.kern.RBF(input_dim=7, ARD=True),ARD=True, verbose=False)\n",
    "    model_gp = GPyOpt.models.GPModel(ARD=True, verbose=False)\n",
    "    objective = GPyOpt.core.task.SingleObjective(None)\n",
    "    acquisition_optimizer = GPyOpt.optimization.AcquisitionOptimizer(space)\n",
    "    acquisition_EI = GPyOpt.acquisitions.AcquisitionEI(model_gp, space, acquisition_optimizer, jitter=jitter)\n",
    "    acquisition = GPyOpt.acquisitions.LP.AcquisitionLP(model_gp, space, acquisition_optimizer,acquisition_EI)\n",
    "    evaluator = GPyOpt.core.evaluators.LocalPenalization(acquisition, batch_size=48)\n",
    "    \n",
    "    bo_EI = GPyOpt.methods.ModularBayesianOptimization(\n",
    "    model=model_gp,\n",
    "    space=space,\n",
    "    objective=objective,\n",
    "    acquisition=acquisition,\n",
    "    evaluator=evaluator,\n",
    "    X_init=X_init,\n",
    "    Y_init=Y_init,   \n",
    "    normalize_Y=True\n",
    "    )\n",
    "    if batch_context:\n",
    "        nextX = bo_EI.suggest_next_locations(batch_context=get_batch_context(normalize=normalize))\n",
    "    else:\n",
    "        nextX = bo_EI.suggest_next_locations()\n",
    "        \n",
    "    if normalize:\n",
    "        nextX = rescale(nextX)\n",
    "    \n",
    "    with open( savepath+\"/model/EI_j\"+str(jitter)+\".pkl\", \"wb\") as f:\n",
    "        pickle.dump(bo_EI, f, protocol=2)\n",
    "    \n",
    "    return nextX"
   ]
  },
  {
   "cell_type": "code",
   "execution_count": 6,
   "metadata": {},
   "outputs": [],
   "source": [
    "def x2csv(nextX, jitter,savepath = savepath):\n",
    "    wells = np.array([])\n",
    "    dishes = np.array([])\n",
    "    for dishno in np.arange(1,9):\n",
    "        wells = np.append(wells,[1,2,3,4,5,6])\n",
    "        dishes = np.append(dishes,np.array([1,1,1,1,1,1])*dishno)\n",
    "    wells = np.array([wells]).T\n",
    "    dishes = np.array([dishes]).T\n",
    "    test = np.concatenate((dishes,wells),axis=1)\n",
    "    result = np.concatenate((test,nextX),axis=1)\n",
    "    #result = pd.DataFrame(result, columns=[\"Dish_No\",\"Well_No\",\"細胞剥離方法\",\"trypsin_time\",\"FGFRi濃度\",\"preconditioning_period\",\"suspend速度\",\"KSR期間\",\"3因子期間\"])\n",
    "    result = pd.DataFrame(result, columns=[\"Dish_No\",\"Well_No\",\"cell_peelingmode\",\"trypsin_time\",\"FGFRi_conc\",\"preconditioning_period\",\"suspend_speed\",\"KSR_period\",\"3factor_period\"])\n",
    "    result.to_csv(savepath+\"/csv/EI_j\"+str(jitter)+\".csv\")\n",
    "    return 0"
   ]
  },
  {
   "cell_type": "code",
   "execution_count": 7,
   "metadata": {},
   "outputs": [
    {
     "name": "stdout",
     "output_type": "stream",
     "text": [
      "0\n",
      "0.01\n",
      "0.005\n",
      "0.002\n",
      "0.001\n",
      "0.0005\n",
      "0.0001\n",
      "5e-05\n",
      "1e-05\n"
     ]
    }
   ],
   "source": [
    "for jitter in jorders:\n",
    "    print(jitter)\n",
    "    nextX = calc_EIstep(X_init, Y_init, jitter, batch_context=True, normalize = normalize)\n",
    "    x2csv(nextX, jitter,savepath= savepath )"
   ]
  },
  {
   "cell_type": "code",
   "execution_count": null,
   "metadata": {},
   "outputs": [],
   "source": []
  }
 ],
 "metadata": {
  "kernelspec": {
   "display_name": "Python 3",
   "language": "python",
   "name": "python3"
  },
  "language_info": {
   "codemirror_mode": {
    "name": "ipython",
    "version": 3
   },
   "file_extension": ".py",
   "mimetype": "text/x-python",
   "name": "python",
   "nbconvert_exporter": "python",
   "pygments_lexer": "ipython3",
   "version": "3.6.3"
  }
 },
 "nbformat": 4,
 "nbformat_minor": 2
}
