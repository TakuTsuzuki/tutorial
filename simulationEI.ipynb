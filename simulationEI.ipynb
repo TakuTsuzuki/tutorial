{
 "cells": [
  {
   "cell_type": "code",
   "execution_count": 1,
   "metadata": {},
   "outputs": [],
   "source": [
    "%matplotlib inline\n",
    "import numpy as np\n",
    "import matplotlib.pyplot as plt\n",
    "import seaborn as sns\n",
    "import pandas as pd\n",
    "import GPyOpt\n",
    "import GPy \n",
    "import pickle\n",
    "import scipy.optimize\n",
    "\n",
    "import RPEforsmi\n",
    "import importlib\n",
    "importlib.reload(RPEforsmi)\n",
    "\n",
    "from RPEforsmi import X_names, X_bounds, get_domain\n",
    "from RPEforsmi import get_batch_context, get_init_design, rescale\n",
    "from RPEforsmi import RPE_true, RPE_multiplicative_noisy"
   ]
  },
  {
   "cell_type": "code",
   "execution_count": 2,
   "metadata": {},
   "outputs": [
    {
     "name": "stdout",
     "output_type": "stream",
     "text": [
      "[0, 1.0, 0.1, 0.01]\n"
     ]
    }
   ],
   "source": [
    "jorders = [0]\n",
    "for i in np.arange(0,3):\n",
    "    aaa = str(\"1e-0\")+str(i)\n",
    "    jorders.append(float(aaa))\n",
    "\n",
    "print(jorders)"
   ]
  },
  {
   "cell_type": "code",
   "execution_count": 3,
   "metadata": {},
   "outputs": [
    {
     "name": "stdout",
     "output_type": "stream",
     "text": [
      "                        fun: -1.6373666369731614\n",
      " lowest_optimization_result:       fun: -1.6373666369731614\n",
      " hess_inv: <7x7 LbfgsInvHessProduct with dtype=float64>\n",
      "      jac: array([ 0.00000000e+00,  0.00000000e+00,  0.00000000e+00, -5.71723335e-02,\n",
      "        0.00000000e+00,  0.00000000e+00, -3.00648395e-05])\n",
      "  message: b'CONVERGENCE: NORM_OF_PROJECTED_GRADIENT_<=_PGTOL'\n",
      "     nfev: 88\n",
      "      nit: 8\n",
      "   status: 0\n",
      "  success: True\n",
      "        x: array([  0.        ,  15.00000004, 250.00632356,   6.        ,\n",
      "        10.        ,  19.        ,  19.        ])\n",
      "                    message: ['success condition satisfied']\n",
      "      minimization_failures: 1021\n",
      "                       nfev: 371560\n",
      "                        nit: 2507\n",
      "                          x: array([  0.        ,  15.00000004, 250.00632356,   6.        ,\n",
      "        10.        ,  19.        ,  19.        ])\n"
     ]
    }
   ],
   "source": [
    "x_zip = lambda x: np.array([x[0],x[1],x[2],x[3],x[4],x[5],x[6]])\n",
    "_f = lambda x:RPE_true(x_zip(x))\n",
    "_bounds = [X_bounds[i] for i in [0,1,2,3,4,5,6]]\n",
    "r = scipy.optimize.basinhopping(_f, x0=np.zeros(7), minimizer_kwargs={\n",
    "    \"bounds\":_bounds,\"method\":\"L-BFGS-B\"}, niter=10000 , niter_success=1000)\n",
    "print(r)"
   ]
  },
  {
   "cell_type": "code",
   "execution_count": 4,
   "metadata": {},
   "outputs": [],
   "source": [
    "normalize = True\n",
    "savepath= \"./simulation/eij0.001rbf46\"\n",
    "def create_model(X_init, Y_init,jitter,normalize = normalize, batch_context=True,savepath=savepath,_iter=0):\n",
    "    space = GPyOpt.core.task.space.Design_space(get_domain(normalize=normalize), None)\n",
    "    model_gp = GPyOpt.models.GPModel(\n",
    "        kernel=GPy.kern.RBF(input_dim=7, ARD=True), ARD=True, verbose=False)\n",
    "    objective = GPyOpt.core.task.SingleObjective(None)\n",
    "    acquisition_optimizer = GPyOpt.optimization.AcquisitionOptimizer(space)\n",
    "    acquisition_EI = GPyOpt.acquisitions.AcquisitionEI(model_gp, space, acquisition_optimizer, jitter=jitter)\n",
    "    acquisition = GPyOpt.acquisitions.LP.AcquisitionLP(model_gp, space, acquisition_optimizer,acquisition_EI)\n",
    "    evaluator = GPyOpt.core.evaluators.LocalPenalization(acquisition, batch_size=48)\n",
    "    \n",
    "    bo_EI = GPyOpt.methods.ModularBayesianOptimization(\n",
    "    model=model_gp,\n",
    "    space=space,\n",
    "    objective=objective,\n",
    "    acquisition=acquisition,\n",
    "    evaluator=evaluator,\n",
    "    X_init=X_init,  \n",
    "    Y_init=Y_init,\n",
    "    normalize_Y=True\n",
    "    )\n",
    "    if batch_context:\n",
    "        nextX = bo_EI.suggest_next_locations(batch_context=get_batch_context(normalize=normalize))\n",
    "    else:\n",
    "        nextX = bo_EI.suggest_next_locations(normalize=normalize)\n",
    "        \n",
    "    if normalize:\n",
    "        nextX = rescale(nextX)\n",
    "    \n",
    "    with open( savepath+\"/model/EI_j\"+str(jitter)+\"iter\"+str(_iter)+\".pkl\", \"wb\") as f:\n",
    "        pickle.dump(bo_EI, f, protocol=2)\n",
    "    \n",
    "    return nextX"
   ]
  },
  {
   "cell_type": "code",
   "execution_count": 5,
   "metadata": {},
   "outputs": [],
   "source": [
    "def x2csv(nextX, jitter,_iter,savepath = savepath):\n",
    "    wells = np.array([])\n",
    "    dishes = np.array([])\n",
    "    for dishno in np.arange(1,9):\n",
    "        wells = np.append(wells,[1,2,3,4,5,6])\n",
    "        dishes = np.append(dishes,np.array([1,1,1,1,1,1])*dishno)\n",
    "    wells = np.array([wells]).T\n",
    "    dishes = np.array([dishes]).T\n",
    "    test = np.concatenate((dishes,wells),axis=1)\n",
    "    result = np.concatenate((test,nextX),axis=1)\n",
    "    #result = pd.DataFrame(result, columns=[\"Dish_No\",\"Well_No\",\"細胞剥離方法\",\"trypsin_time\",\"FGFRi濃度\",\"preconditioning_period\",\"suspend速度\",\"KSR期間\",\"3因子期間\"])\n",
    "    result = pd.DataFrame(result, columns=[\"Dish_No\",\"Well_No\",\"cell_peelingmode\",\"trypsin_time\",\"FGFRi_conc\",\"preconditioning_period\",\"suspend_speed\",\"KSR_period\",\"3factor_period\"])\n",
    "    result.to_csv(savepath+\"/csv/EI_j\"+str(jitter)+\"iter\"+str(_iter)+\".csv\")\n",
    "    return 0"
   ]
  },
  {
   "cell_type": "code",
   "execution_count": 6,
   "metadata": {},
   "outputs": [],
   "source": [
    "normalize = True\n",
    "jitter = 0.001\n",
    "X_init = get_init_design(normalize=normalize)*0.8\n",
    "f = lambda x: RPE_multiplicative_noisy(x, SN=9., normalize=normalize)\n",
    "\n",
    "X_init = get_init_design(normalize=normalize)\n",
    "Y_init = []\n",
    "for i in range(48):\n",
    "    Y_init.append([f(X_init[i])])"
   ]
  },
  {
   "cell_type": "code",
   "execution_count": 7,
   "metadata": {},
   "outputs": [
    {
     "data": {
      "text/plain": [
       "(48, 7)"
      ]
     },
     "execution_count": 7,
     "metadata": {},
     "output_type": "execute_result"
    }
   ],
   "source": [
    "X_init.shape"
   ]
  },
  {
   "cell_type": "code",
   "execution_count": 8,
   "metadata": {
    "scrolled": true
   },
   "outputs": [
    {
     "data": {
      "text/plain": [
       "[-1.0149154286582878]"
      ]
     },
     "execution_count": 8,
     "metadata": {},
     "output_type": "execute_result"
    }
   ],
   "source": [
    "min(Y_init)"
   ]
  },
  {
   "cell_type": "code",
   "execution_count": 9,
   "metadata": {},
   "outputs": [
    {
     "name": "stdout",
     "output_type": "stream",
     "text": [
      "0\n",
      "1\n",
      "2\n",
      "3\n"
     ]
    }
   ],
   "source": [
    "iter_count = 4\n",
    "current_iter = 0\n",
    "X_step = X_init\n",
    "Y_step = Y_init\n",
    "\n",
    "while current_iter < iter_count:\n",
    "    print(current_iter)\n",
    "    X_next = create_model(X_step, Y_step, jitter = jitter, _iter = current_iter)\n",
    "    Y_next = []\n",
    "    for i in range(48):\n",
    "        Y_next.append([f(X_next[i])])\n",
    "    x2csv(X_next, jitter = jitter, _iter = current_iter)\n",
    "    \n",
    "    X_step = np.vstack((X_step, X_next))\n",
    "    Y_step = Y_step + Y_next\n",
    "    \n",
    "    current_iter += 1"
   ]
  },
  {
   "cell_type": "code",
   "execution_count": 10,
   "metadata": {},
   "outputs": [],
   "source": [
    "Y_step = np.array(Y_step)"
   ]
  },
  {
   "cell_type": "code",
   "execution_count": 11,
   "metadata": {},
   "outputs": [],
   "source": [
    "result = []\n",
    "for i in range(iter_count):\n",
    "    result.append(min(Y_step[:48+48*i]))"
   ]
  },
  {
   "cell_type": "code",
   "execution_count": 13,
   "metadata": {},
   "outputs": [
    {
     "data": {
      "text/plain": [
       "[<matplotlib.lines.Line2D at 0x7f7bbd36ca90>]"
      ]
     },
     "execution_count": 13,
     "metadata": {},
     "output_type": "execute_result"
    },
    {
     "data": {
      "image/png": "[encoded data removed]",
      "text/plain": [
       "<Figure size 432x288 with 1 Axes>"
      ]
     },
     "metadata": {},
     "output_type": "display_data"
    }
   ],
   "source": [
    "plt.plot(result)"
   ]
  },
  {
   "cell_type": "code",
   "execution_count": null,
   "metadata": {},
   "outputs": [],
   "source": []
  }
 ],
 "metadata": {
  "kernelspec": {
   "display_name": "Python 3",
   "language": "python",
   "name": "python3"
  },
  "language_info": {
   "codemirror_mode": {
    "name": "ipython",
    "version": 3
   },
   "file_extension": ".py",
   "mimetype": "text/x-python",
   "name": "python",
   "nbconvert_exporter": "python",
   "pygments_lexer": "ipython3",
   "version": "3.6.3"
  }
 },
 "nbformat": 4,
 "nbformat_minor": 2
}
